{
 "cells": [
  {
   "cell_type": "markdown",
   "metadata": {},
   "source": [
    "# Calculating Dynamical Mass of Cluster"
   ]
  },
  {
   "cell_type": "markdown",
   "metadata": {},
   "source": [
    "## Importing Modules and Data"
   ]
  },
  {
   "cell_type": "code",
   "execution_count": 4,
   "metadata": {},
   "outputs": [],
   "source": [
    "# Load Modules\n",
    "import numpy as np\n",
    "import astropy.units as u\n",
    "import statistics as stat\n",
    "\n",
    "#import constants\n",
    "from astropy.constants import G\n",
    "from astropy.constants import c\n",
    "\n",
    "# import plotting modules\n",
    "import matplotlib.pyplot as plt\n",
    "import matplotlib\n",
    "%matplotlib inline"
   ]
  },
  {
   "cell_type": "code",
   "execution_count": 5,
   "metadata": {},
   "outputs": [
    {
     "name": "stderr",
     "output_type": "stream",
     "text": [
      "/Users/bfrye/anaconda3/anaconda3/lib/python3.7/site-packages/ipykernel_launcher.py:5: VisibleDeprecationWarning: Reading unicode strings without specifying the encoding argument is deprecated. Set the encoding, use None for the system default.\n",
      "  \"\"\"\n"
     ]
    }
   ],
   "source": [
    "# Import the files\n",
    "filename=\"./G165_zrange_3sig.txt\"\n",
    "\n",
    "\n",
    "data = np.genfromtxt(filename,dtype=None,names=True,skip_header=2)"
   ]
  },
  {
   "cell_type": "markdown",
   "metadata": {},
   "source": [
    "## Pulling In and Testing Redshift Data"
   ]
  },
  {
   "cell_type": "code",
   "execution_count": 6,
   "metadata": {},
   "outputs": [],
   "source": [
    "zmean=stat.mean(data['z_spec'])"
   ]
  },
  {
   "cell_type": "code",
   "execution_count": 7,
   "metadata": {},
   "outputs": [
    {
     "data": {
      "text/plain": [
       "0.347890625"
      ]
     },
     "execution_count": 7,
     "metadata": {},
     "output_type": "execute_result"
    }
   ],
   "source": [
    "zmean"
   ]
  },
  {
   "cell_type": "code",
   "execution_count": 8,
   "metadata": {},
   "outputs": [
    {
     "data": {
      "text/plain": [
       "array([0.346 , 0.348 , 0.353 , 0.348 , 0.348 , 0.348 , 0.338 , 0.354 ,\n",
       "       0.346 , 0.351 , 0.345 , 0.344 , 0.348 , 0.347 , 0.347 , 0.354 ,\n",
       "       0.3495, 0.343 , 0.3475, 0.3495, 0.3505, 0.355 , 0.353 , 0.346 ,\n",
       "       0.3435, 0.3475, 0.348 , 0.345 , 0.346 , 0.347 , 0.3495, 0.347 ])"
      ]
     },
     "execution_count": 8,
     "metadata": {},
     "output_type": "execute_result"
    }
   ],
   "source": [
    "data['z_spec']"
   ]
  },
  {
   "cell_type": "code",
   "execution_count": 9,
   "metadata": {},
   "outputs": [],
   "source": [
    "zarray=data['z_spec']"
   ]
  },
  {
   "cell_type": "code",
   "execution_count": 10,
   "metadata": {},
   "outputs": [
    {
     "data": {
      "text/plain": [
       "0.338"
      ]
     },
     "execution_count": 10,
     "metadata": {},
     "output_type": "execute_result"
    }
   ],
   "source": [
    "zarray[6]"
   ]
  },
  {
   "cell_type": "code",
   "execution_count": 11,
   "metadata": {},
   "outputs": [
    {
     "data": {
      "text/plain": [
       "array([b's7', b's11', b'4/5', b'35', b's32', b's40', b's42', b'17',\n",
       "       b'71/72', b'32', b'181/182', b'70/71', b'29', b'28', b'23/24',\n",
       "       b'2', b'9', b'17', b'18', b'20', b'23', b'24', b'25', b'29', b'35',\n",
       "       b'40', b'43', b'45', b'46', b'47', b'49', b'70'], dtype='|S7')"
      ]
     },
     "execution_count": 11,
     "metadata": {},
     "output_type": "execute_result"
    }
   ],
   "source": [
    "#pull ID of objects\n",
    "ID=data['Id']\n",
    "ID"
   ]
  },
  {
   "cell_type": "markdown",
   "metadata": {},
   "source": [
    "## Calculating Velocity Dispersion"
   ]
  },
  {
   "cell_type": "markdown",
   "metadata": {},
   "source": [
    "### Method 1\n",
    "velocity dispersion = sqrt(sum(deltav^2))"
   ]
  },
  {
   "cell_type": "code",
   "execution_count": 12,
   "metadata": {},
   "outputs": [
    {
     "name": "stdout",
     "output_type": "stream",
     "text": [
      "ID's for removed data b's42'\n",
      "with z= 0.338\n",
      "ID's for removed data b'24'\n",
      "with z= 0.355\n"
     ]
    }
   ],
   "source": [
    "#velocity dispersion = sqrt(sum(deltav^2))\n",
    "# deltav, the radial velocities of the group members (deltav=z*c)\n",
    "# z, the redshift\n",
    "# c, the speed of light in (km/s)\n",
    "c = c.to(u.km/u.s)\n",
    "#print(c) #check the value and units of c\n",
    "\n",
    "n=32 #sample size \n",
    "\n",
    "#create array of values for deltav\n",
    "\n",
    "deltav_array=np.array([])\n",
    "deltav_array2=np.array([])\n",
    "z_array=np.array([])\n",
    "for i in np.arange(0,n,1):\n",
    "    v= zarray[i]*c.value #c is in km/s\n",
    "    vavg = zmean*c.value\n",
    "    deltav = v-vavg\n",
    "        \n",
    "    #without constraints\n",
    "    deltav_array=np.append(deltav_array, deltav)\n",
    "    \n",
    "    #with constraints at +-2000 km/s\n",
    "    number=2000\n",
    "    if (deltav<number) and (deltav>-number):\n",
    "        deltav_array2=np.append(deltav_array2, deltav)\n",
    "        z_array=np.append(z_array,zarray[i])\n",
    "    else:\n",
    "        print(\"ID's for removed data\",ID[i])\n",
    "        print(\"with z=\",zarray[i])\n",
    "\n",
    "\n"
   ]
  },
  {
   "cell_type": "code",
   "execution_count": 16,
   "metadata": {
    "scrolled": true
   },
   "outputs": [
    {
     "data": {
      "text/plain": [
       "array([ -566.79511591,    32.78980009,  1531.75209009,    32.78980009,\n",
       "          32.78980009,    32.78980009, -2965.13477991,  1831.54454809,\n",
       "        -566.79511591,   932.16717409,  -866.58757391, -1166.38003191,\n",
       "          32.78980009,  -267.00265791,  -267.00265791,  1831.54454809,\n",
       "         482.47848709, -1466.17248991,  -117.10642891,   482.47848709,\n",
       "         782.27094509,  2131.33700609,  1531.75209009,  -566.79511591,\n",
       "       -1316.27626091,  -117.10642891,    32.78980009,  -866.58757391,\n",
       "        -566.79511591,  -267.00265791,   482.47848709,  -267.00265791])"
      ]
     },
     "execution_count": 16,
     "metadata": {},
     "output_type": "execute_result"
    }
   ],
   "source": [
    "deltav_array"
   ]
  },
  {
   "cell_type": "code",
   "execution_count": 17,
   "metadata": {
    "scrolled": true
   },
   "outputs": [
    {
     "data": {
      "text/plain": [
       "array([ -566.79511591,    32.78980009,  1531.75209009,    32.78980009,\n",
       "          32.78980009,    32.78980009,  1831.54454809,  -566.79511591,\n",
       "         932.16717409,  -866.58757391, -1166.38003191,    32.78980009,\n",
       "        -267.00265791,  -267.00265791,  1831.54454809,   482.47848709,\n",
       "       -1466.17248991,  -117.10642891,   482.47848709,   782.27094509,\n",
       "        1531.75209009,  -566.79511591, -1316.27626091,  -117.10642891,\n",
       "          32.78980009,  -866.58757391,  -566.79511591,  -267.00265791,\n",
       "         482.47848709,  -267.00265791])"
      ]
     },
     "execution_count": 17,
     "metadata": {},
     "output_type": "execute_result"
    }
   ],
   "source": [
    "deltav_array2"
   ]
  },
  {
   "cell_type": "code",
   "execution_count": 15,
   "metadata": {},
   "outputs": [
    {
     "ename": "NameError",
     "evalue": "name 'z_array2' is not defined",
     "output_type": "error",
     "traceback": [
      "\u001b[0;31m---------------------------------------------------------------------------\u001b[0m",
      "\u001b[0;31mNameError\u001b[0m                                 Traceback (most recent call last)",
      "\u001b[0;32m<ipython-input-15-cb5e010f815f>\u001b[0m in \u001b[0;36m<module>\u001b[0;34m\u001b[0m\n\u001b[0;32m----> 1\u001b[0;31m \u001b[0mz_array2\u001b[0m\u001b[0;34m\u001b[0m\u001b[0;34m\u001b[0m\u001b[0m\n\u001b[0m",
      "\u001b[0;31mNameError\u001b[0m: name 'z_array2' is not defined"
     ]
    }
   ],
   "source": [
    "z_array2"
   ]
  },
  {
   "cell_type": "code",
   "execution_count": 200,
   "metadata": {},
   "outputs": [
    {
     "data": {
      "text/plain": [
       "-2965.1347799062496"
      ]
     },
     "execution_count": 200,
     "metadata": {},
     "output_type": "execute_result"
    }
   ],
   "source": [
    "##Test that the values in the array are correct\n",
    "a=6 #test value in array 0-32\n",
    "\n",
    "vtest= zarray[a]*c.value\n",
    "deltavtest = vtest-vavg\n",
    "\n",
    "deltavtest"
   ]
  },
  {
   "cell_type": "code",
   "execution_count": 201,
   "metadata": {},
   "outputs": [],
   "source": [
    "#velocity dispersion = sqrt(sum(deltav^2))\n",
    "#without constraint\n",
    "veldisp = np.sqrt(np.sum(deltav_array**2))*u.km/u.s\n",
    "#with constraint\n",
    "veldisp2 = np.sqrt(np.sum(deltav_array2**2))*u.km/u.s"
   ]
  },
  {
   "cell_type": "code",
   "execution_count": 202,
   "metadata": {},
   "outputs": [
    {
     "data": {
      "text/latex": [
       "$5938.3671 \\; \\mathrm{\\frac{km}{s}}$"
      ],
      "text/plain": [
       "<Quantity 5938.36713021 km / s>"
      ]
     },
     "execution_count": 202,
     "metadata": {},
     "output_type": "execute_result"
    }
   ],
   "source": [
    "veldisp"
   ]
  },
  {
   "cell_type": "code",
   "execution_count": 203,
   "metadata": {},
   "outputs": [
    {
     "data": {
      "text/latex": [
       "$4682.9032 \\; \\mathrm{\\frac{km}{s}}$"
      ],
      "text/plain": [
       "<Quantity 4682.90321026 km / s>"
      ]
     },
     "execution_count": 203,
     "metadata": {},
     "output_type": "execute_result"
    }
   ],
   "source": [
    "veldisp2"
   ]
  },
  {
   "cell_type": "markdown",
   "metadata": {},
   "source": [
    "### Method 2\n",
    "gapper velocity dispersion = (sqrt(pi)/(n(n-1)))*sum(w_i*g_i)\n",
    "w_i=i(n-i)\n",
    "g_i=v_i+1 - v_i"
   ]
  },
  {
   "cell_type": "code",
   "execution_count": 174,
   "metadata": {},
   "outputs": [],
   "source": [
    "#gapper velocity dispersion = (sqrt(pi)/(n(n-1)))*sum(w*g)\n",
    "#w=i(n-i)\n",
    "#g=v[i+1] - v[i]\n",
    "n=32 #sample size \n",
    "#v, observed radial velocity of each group member\n",
    "#i, value cycle over in sum\n",
    "\n",
    "\n",
    "#create array of values for deltav gapper method\n",
    "#without constraint\n",
    "gap_array=np.array([])\n",
    "for i in np.arange(1,n-1,1):\n",
    "    vgap= zarray[i]*c.value #c is in km/s\n",
    "    vgap2= zarray[i+1]*c.value #c is in km/s\n",
    "    w=i*(n-i)\n",
    "    g=vgap2-vgap\n",
    "    insum= w*g\n",
    "    \n",
    "    gap_array=np.append(gap_array, insum)\n",
    "\n",
    "#with the constraint in the other method\n",
    "n2=30\n",
    "gap_array2=np.array([])\n",
    "for i in np.arange(1,n2-1,1):\n",
    "    vgap_2= z_array[i]*c.value #c is in km/s\n",
    "    vgap2_2= z_array[i+1]*c.value #c is in km/s\n",
    "    w_2=i*(n-i)\n",
    "    g_2=vgap2_2-vgap_2\n",
    "    insum_2= w_2*g_2\n",
    "    \n",
    "    gap_array2=np.append(gap_array2, insum_2)"
   ]
  },
  {
   "cell_type": "code",
   "execution_count": 176,
   "metadata": {},
   "outputs": [
    {
     "data": {
      "text/plain": [
       "array([  46467.83099 ,  -89937.7374  ,       0.      ,       0.      ,\n",
       "       -404719.8183  ,  748281.975168, -419709.4412  ,  287800.75968 ,\n",
       "       -372342.232836,  -65954.34076 ,  277008.231192,  -71950.18992 ,\n",
       "             0.      ,  528833.895912, -344011.845555, -498854.650112,\n",
       "        344011.845555,  151095.398832,   74048.737126,  323775.85464 ,\n",
       "       -138504.115596, -461680.38532 , -155142.597015,  230240.607744,\n",
       "         26231.840075, -140302.870344,   40471.98183 ,   33576.755296,\n",
       "         65204.859615,  -44968.8687  ])"
      ]
     },
     "execution_count": 176,
     "metadata": {},
     "output_type": "execute_result"
    }
   ],
   "source": [
    "gap_array"
   ]
  },
  {
   "cell_type": "code",
   "execution_count": 177,
   "metadata": {},
   "outputs": [
    {
     "data": {
      "text/plain": [
       "array([  46467.83099 ,  -89937.7374  ,       0.      ,       0.      ,\n",
       "        242831.89098 , -374140.987584,  262318.40075 , -345360.911616,\n",
       "        -62057.038806,  263817.36304 ,  -69252.057798,       0.      ,\n",
       "        518341.159882, -339964.647372, -496905.999135,  345360.911616,\n",
       "        152894.15358 ,   75547.699416,  185121.842815, -503651.32944 ,\n",
       "       -173130.144495,  263817.36304 ,   31028.519403, -172680.455808,\n",
       "         52463.68015 ,   46767.623448,  101179.954575,  -83941.88824 ])"
      ]
     },
     "execution_count": 177,
     "metadata": {},
     "output_type": "execute_result"
    }
   ],
   "source": [
    "gap_array2"
   ]
  },
  {
   "cell_type": "code",
   "execution_count": 178,
   "metadata": {},
   "outputs": [
    {
     "data": {
      "text/latex": [
       "$-55.44014 \\; \\mathrm{\\frac{km}{s}}$"
      ],
      "text/plain": [
       "<Quantity -55.44013982 km / s>"
      ]
     },
     "execution_count": 178,
     "metadata": {},
     "output_type": "execute_result"
    }
   ],
   "source": [
    "veldispgap=(np.sqrt(np.pi)/(n*(n-1)))*np.sum(gap_array)*u.km/u.s\n",
    "veldispgap2=(np.sqrt(np.pi)/(n2*(n2-1)))*np.sum(gap_array2)*u.km/u.s\n",
    "\n",
    "veldispgap"
   ]
  },
  {
   "cell_type": "code",
   "execution_count": 179,
   "metadata": {},
   "outputs": [
    {
     "data": {
      "text/latex": [
       "$-250.72033 \\; \\mathrm{\\frac{km}{s}}$"
      ],
      "text/plain": [
       "<Quantity -250.72032848 km / s>"
      ]
     },
     "execution_count": 179,
     "metadata": {},
     "output_type": "execute_result"
    }
   ],
   "source": [
    "veldispgap2"
   ]
  },
  {
   "cell_type": "markdown",
   "metadata": {},
   "source": [
    "## Calculating Dynamical Mass"
   ]
  },
  {
   "cell_type": "code",
   "execution_count": 204,
   "metadata": {},
   "outputs": [],
   "source": [
    "# Dynamical Mass = (beta*veldisp**2*Re)/G\n",
    "# beta, virial factor (beta=5 for elliptical galaxies)\n",
    "beta = 5\n",
    "# veldisp, velocity dispersion (km/s)\n",
    "# Re, Effective Radius (kpc)\n",
    "Re=3282.106068758297*u.kpc #find the effective radius *****\n",
    "# G, Gravitational Const (imported below with units u.kpc**3/u.Gyr**2/u.Msun)\n",
    "G = G.to(u.kpc*u.km**2/u.s**2/u.Msun) # 4.498768e-6*u.kpc**3/u.Gyr**2/u.Msun\n",
    "\n",
    "#without constraint\n",
    "DM=(beta*veldisp**2*Re)/G\n",
    "DMgap= (beta*veldispgap**2*Re)/G\n",
    "\n",
    "#with constraint\n",
    "DM2=(beta*veldisp2**2*Re)/G\n",
    "DMgap2= (beta*veldispgap2**2*Re)/G"
   ]
  },
  {
   "cell_type": "code",
   "execution_count": 205,
   "metadata": {},
   "outputs": [
    {
     "data": {
      "text/latex": [
       "$1.3455369 \\times 10^{17} \\; \\mathrm{M_{\\odot}}$"
      ],
      "text/plain": [
       "<Quantity 1.34553691e+17 solMass>"
      ]
     },
     "execution_count": 205,
     "metadata": {},
     "output_type": "execute_result"
    }
   ],
   "source": [
    "DM"
   ]
  },
  {
   "cell_type": "code",
   "execution_count": 207,
   "metadata": {},
   "outputs": [
    {
     "data": {
      "text/latex": [
       "$1.1727627 \\times 10^{13} \\; \\mathrm{M_{\\odot}}$"
      ],
      "text/plain": [
       "<Quantity 1.17276275e+13 solMass>"
      ]
     },
     "execution_count": 207,
     "metadata": {},
     "output_type": "execute_result"
    }
   ],
   "source": [
    "DMgap"
   ]
  },
  {
   "cell_type": "code",
   "execution_count": 208,
   "metadata": {},
   "outputs": [
    {
     "data": {
      "text/latex": [
       "$8.3674262 \\times 10^{16} \\; \\mathrm{M_{\\odot}}$"
      ],
      "text/plain": [
       "<Quantity 8.3674262e+16 solMass>"
      ]
     },
     "execution_count": 208,
     "metadata": {},
     "output_type": "execute_result"
    }
   ],
   "source": [
    "DM2"
   ]
  },
  {
   "cell_type": "code",
   "execution_count": 209,
   "metadata": {},
   "outputs": [
    {
     "data": {
      "text/latex": [
       "$2.398505 \\times 10^{14} \\; \\mathrm{M_{\\odot}}$"
      ],
      "text/plain": [
       "<Quantity 2.39850498e+14 solMass>"
      ]
     },
     "execution_count": 209,
     "metadata": {},
     "output_type": "execute_result"
    }
   ],
   "source": [
    "DMgap2"
   ]
  },
  {
   "cell_type": "markdown",
   "metadata": {},
   "source": [
    "## Histogram of Data W/ and W/O a Constraint on Velocity"
   ]
  },
  {
   "cell_type": "code",
   "execution_count": 210,
   "metadata": {},
   "outputs": [
    {
     "name": "stdout",
     "output_type": "stream",
     "text": [
      "zmean= 0.347890625\n",
      "zmean w/ constraint= 0.3479833333333333\n"
     ]
    },
    {
     "data": {
      "image/png": "[encoded data removed]",
      "text/plain": [
       "<Figure size 1440x1080 with 1 Axes>"
      ]
     },
     "metadata": {
      "needs_background": "light"
     },
     "output_type": "display_data"
    }
   ],
   "source": [
    "#plot the subset of candidates selected on previous plot\n",
    "plt.figure(figsize=(20,15))\n",
    "ax = plt.subplot(111)\n",
    "plt.hist(data['z_spec'], color='red', bins=np.arange(0.33,0.37,0.0025), range=None, histtype='bar', align='mid',rwidth=.95, label='w/o constraint data')\n",
    "\n",
    "#plot a new subset of candidates that is most likely the actual cluster members\n",
    "plt.hist(z_array, color='darkorange', bins=np.arange(0.33,0.37,0.0025), range=None, histtype='bar', align='mid',rwidth=.95, label='w/ constraint data')\n",
    "\n",
    "#plot mean and 3 sigma of those probable cluster members\n",
    "zmean_new=stat.mean(z_array)\n",
    "plt.axvline(x=zmean, color='darkslategrey', linewidth=2, label='zmean w/o constraint')\n",
    "plt.axvline(x=zmean_new, color='darkgreen', linewidth=2, label='zmean w/ constraint')\n",
    "print ('zmean=',zmean)\n",
    "print ('zmean w/ constraint=',zmean_new)\n",
    "\n",
    "zstdev=stat.stdev(data['z_spec'])\n",
    "zstdev_new=stat.stdev(z_array)\n",
    "plt.axvline(x=zmean+(3*zstdev), color='deepskyblue', linewidth=3, label='3sig w/o constraint')\n",
    "plt.axvline(x=zmean-(3*zstdev), color='deepskyblue', linewidth=3)\n",
    "plt.axvline(x=zmean_new+(3*zstdev_new), color='maroon', linewidth=3, label='3sig w/ constraint')\n",
    "plt.axvline(x=zmean_new-(3*zstdev_new), color='maroon', linewidth=3)\n",
    "\n",
    "#labels\n",
    "plt.xlabel('redshift', fontsize=20)\n",
    "plt.xticks(np.arange(0.33,0.37,0.0025), fontsize=15)\n",
    "plt.yticks(np.arange(0,11,1), fontsize=15)\n",
    "plt.title('Cluster Members per Redshift', fontsize=20)\n",
    "legend = ax.legend(loc='upper left',fontsize='x-large')\n"
   ]
  },
  {
   "cell_type": "code",
   "execution_count": null,
   "metadata": {},
   "outputs": [],
   "source": []
  }
 ],
 "metadata": {
  "kernelspec": {
   "display_name": "Python 3",
   "language": "python",
   "name": "python3"
  },
  "language_info": {
   "codemirror_mode": {
    "name": "ipython",
    "version": 3
   },
   "file_extension": ".py",
   "mimetype": "text/x-python",
   "name": "python",
   "nbconvert_exporter": "python",
   "pygments_lexer": "ipython3",
   "version": "3.7.3"
  }
 },
 "nbformat": 4,
 "nbformat_minor": 2
}
